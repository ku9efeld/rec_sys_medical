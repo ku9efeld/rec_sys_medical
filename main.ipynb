{
 "cells": [
  {
   "cell_type": "code",
   "execution_count": 2,
   "id": "75acc1d8-7709-4b65-a1eb-3456c0134759",
   "metadata": {
    "scrolled": true
   },
   "outputs": [
    {
     "name": "stdout",
     "output_type": "stream",
     "text": [
      "Downloading from https://www.kaggle.com/api/v1/datasets/download/jessicali9530/kuc-hackathon-winter-2018?dataset_version_number=2...\n"
     ]
    },
    {
     "name": "stderr",
     "output_type": "stream",
     "text": [
      "100%|█████████████████████████████████████████████████████████████████████████████| 40.7M/40.7M [00:08<00:00, 4.97MB/s]"
     ]
    },
    {
     "name": "stdout",
     "output_type": "stream",
     "text": [
      "Extracting files...\n"
     ]
    },
    {
     "name": "stderr",
     "output_type": "stream",
     "text": [
      "\n"
     ]
    },
    {
     "data": {
      "text/plain": [
       "'C:\\\\Users\\\\kumme\\\\.cache\\\\kagglehub\\\\datasets\\\\jessicali9530\\\\kuc-hackathon-winter-2018\\\\versions\\\\2'"
      ]
     },
     "execution_count": 2,
     "metadata": {},
     "output_type": "execute_result"
    }
   ],
   "source": [
    "# import kagglehub\n",
    "# !pip install kagglehub\n",
    "# kagglehub.dataset_download(\"jessicali9530/kuc-hackathon-winter-2018\", force_download=True)\n",
    "# kagglehub.dataset_download('singhnavjot2062001/11000-medicine-details',\n",
    "#                            force_download=True)\n",
    "# kagglehub.dataset_download('maheshdadhich/us-healthcare-data')"
   ]
  },
  {
   "cell_type": "code",
   "execution_count": 1,
   "id": "a0dde5d4-1875-4d8c-a80b-2af0d0c36bf1",
   "metadata": {},
   "outputs": [],
   "source": [
    "import pandas as pd\n"
   ]
  },
  {
   "cell_type": "code",
   "execution_count": 3,
   "id": "b51587e1-3d06-4047-bde8-3709dd1f456c",
   "metadata": {},
   "outputs": [
    {
     "data": {
      "text/html": [
       "<div>\n",
       "<style scoped>\n",
       "    .dataframe tbody tr th:only-of-type {\n",
       "        vertical-align: middle;\n",
       "    }\n",
       "\n",
       "    .dataframe tbody tr th {\n",
       "        vertical-align: top;\n",
       "    }\n",
       "\n",
       "    .dataframe thead th {\n",
       "        text-align: right;\n",
       "    }\n",
       "</style>\n",
       "<table border=\"1\" class=\"dataframe\">\n",
       "  <thead>\n",
       "    <tr style=\"text-align: right;\">\n",
       "      <th></th>\n",
       "      <th>uniqueID</th>\n",
       "      <th>drugName</th>\n",
       "      <th>condition</th>\n",
       "      <th>review</th>\n",
       "      <th>rating</th>\n",
       "      <th>date</th>\n",
       "      <th>usefulCount</th>\n",
       "    </tr>\n",
       "  </thead>\n",
       "  <tbody>\n",
       "    <tr>\n",
       "      <th>0</th>\n",
       "      <td>206461</td>\n",
       "      <td>Valsartan</td>\n",
       "      <td>Left Ventricular Dysfunction</td>\n",
       "      <td>\"It has no side effect, I take it in combinati...</td>\n",
       "      <td>9</td>\n",
       "      <td>20-May-12</td>\n",
       "      <td>27</td>\n",
       "    </tr>\n",
       "    <tr>\n",
       "      <th>1</th>\n",
       "      <td>95260</td>\n",
       "      <td>Guanfacine</td>\n",
       "      <td>ADHD</td>\n",
       "      <td>\"My son is halfway through his fourth week of ...</td>\n",
       "      <td>8</td>\n",
       "      <td>27-Apr-10</td>\n",
       "      <td>192</td>\n",
       "    </tr>\n",
       "    <tr>\n",
       "      <th>2</th>\n",
       "      <td>92703</td>\n",
       "      <td>Lybrel</td>\n",
       "      <td>Birth Control</td>\n",
       "      <td>\"I used to take another oral contraceptive, wh...</td>\n",
       "      <td>5</td>\n",
       "      <td>14-Dec-09</td>\n",
       "      <td>17</td>\n",
       "    </tr>\n",
       "    <tr>\n",
       "      <th>3</th>\n",
       "      <td>138000</td>\n",
       "      <td>Ortho Evra</td>\n",
       "      <td>Birth Control</td>\n",
       "      <td>\"This is my first time using any form of birth...</td>\n",
       "      <td>8</td>\n",
       "      <td>3-Nov-15</td>\n",
       "      <td>10</td>\n",
       "    </tr>\n",
       "    <tr>\n",
       "      <th>4</th>\n",
       "      <td>35696</td>\n",
       "      <td>Buprenorphine / naloxone</td>\n",
       "      <td>Opiate Dependence</td>\n",
       "      <td>\"Suboxone has completely turned my life around...</td>\n",
       "      <td>9</td>\n",
       "      <td>27-Nov-16</td>\n",
       "      <td>37</td>\n",
       "    </tr>\n",
       "    <tr>\n",
       "      <th>...</th>\n",
       "      <td>...</td>\n",
       "      <td>...</td>\n",
       "      <td>...</td>\n",
       "      <td>...</td>\n",
       "      <td>...</td>\n",
       "      <td>...</td>\n",
       "      <td>...</td>\n",
       "    </tr>\n",
       "    <tr>\n",
       "      <th>161292</th>\n",
       "      <td>191035</td>\n",
       "      <td>Campral</td>\n",
       "      <td>Alcohol Dependence</td>\n",
       "      <td>\"I wrote my first report in Mid-October of 201...</td>\n",
       "      <td>10</td>\n",
       "      <td>31-May-15</td>\n",
       "      <td>125</td>\n",
       "    </tr>\n",
       "    <tr>\n",
       "      <th>161293</th>\n",
       "      <td>127085</td>\n",
       "      <td>Metoclopramide</td>\n",
       "      <td>Nausea/Vomiting</td>\n",
       "      <td>\"I was given this in IV before surgey. I immed...</td>\n",
       "      <td>1</td>\n",
       "      <td>1-Nov-11</td>\n",
       "      <td>34</td>\n",
       "    </tr>\n",
       "    <tr>\n",
       "      <th>161294</th>\n",
       "      <td>187382</td>\n",
       "      <td>Orencia</td>\n",
       "      <td>Rheumatoid Arthritis</td>\n",
       "      <td>\"Limited improvement after 4 months, developed...</td>\n",
       "      <td>2</td>\n",
       "      <td>15-Mar-14</td>\n",
       "      <td>35</td>\n",
       "    </tr>\n",
       "    <tr>\n",
       "      <th>161295</th>\n",
       "      <td>47128</td>\n",
       "      <td>Thyroid desiccated</td>\n",
       "      <td>Underactive Thyroid</td>\n",
       "      <td>\"I&amp;#039;ve been on thyroid medication 49 years...</td>\n",
       "      <td>10</td>\n",
       "      <td>19-Sep-15</td>\n",
       "      <td>79</td>\n",
       "    </tr>\n",
       "    <tr>\n",
       "      <th>161296</th>\n",
       "      <td>215220</td>\n",
       "      <td>Lubiprostone</td>\n",
       "      <td>Constipation, Chronic</td>\n",
       "      <td>\"I&amp;#039;ve had chronic constipation all my adu...</td>\n",
       "      <td>9</td>\n",
       "      <td>13-Dec-14</td>\n",
       "      <td>116</td>\n",
       "    </tr>\n",
       "  </tbody>\n",
       "</table>\n",
       "<p>161297 rows × 7 columns</p>\n",
       "</div>"
      ],
      "text/plain": [
       "        uniqueID                  drugName                     condition  \\\n",
       "0         206461                 Valsartan  Left Ventricular Dysfunction   \n",
       "1          95260                Guanfacine                          ADHD   \n",
       "2          92703                    Lybrel                 Birth Control   \n",
       "3         138000                Ortho Evra                 Birth Control   \n",
       "4          35696  Buprenorphine / naloxone             Opiate Dependence   \n",
       "...          ...                       ...                           ...   \n",
       "161292    191035                   Campral            Alcohol Dependence   \n",
       "161293    127085            Metoclopramide               Nausea/Vomiting   \n",
       "161294    187382                   Orencia          Rheumatoid Arthritis   \n",
       "161295     47128        Thyroid desiccated           Underactive Thyroid   \n",
       "161296    215220              Lubiprostone         Constipation, Chronic   \n",
       "\n",
       "                                                   review  rating       date  \\\n",
       "0       \"It has no side effect, I take it in combinati...       9  20-May-12   \n",
       "1       \"My son is halfway through his fourth week of ...       8  27-Apr-10   \n",
       "2       \"I used to take another oral contraceptive, wh...       5  14-Dec-09   \n",
       "3       \"This is my first time using any form of birth...       8   3-Nov-15   \n",
       "4       \"Suboxone has completely turned my life around...       9  27-Nov-16   \n",
       "...                                                   ...     ...        ...   \n",
       "161292  \"I wrote my first report in Mid-October of 201...      10  31-May-15   \n",
       "161293  \"I was given this in IV before surgey. I immed...       1   1-Nov-11   \n",
       "161294  \"Limited improvement after 4 months, developed...       2  15-Mar-14   \n",
       "161295  \"I&#039;ve been on thyroid medication 49 years...      10  19-Sep-15   \n",
       "161296  \"I&#039;ve had chronic constipation all my adu...       9  13-Dec-14   \n",
       "\n",
       "        usefulCount  \n",
       "0                27  \n",
       "1               192  \n",
       "2                17  \n",
       "3                10  \n",
       "4                37  \n",
       "...             ...  \n",
       "161292          125  \n",
       "161293           34  \n",
       "161294           35  \n",
       "161295           79  \n",
       "161296          116  \n",
       "\n",
       "[161297 rows x 7 columns]"
      ]
     },
     "execution_count": 3,
     "metadata": {},
     "output_type": "execute_result"
    }
   ],
   "source": [
    "pd.read_csv('datasets\\kuc hackathon\\drugsComTrain_raw.csv')"
   ]
  },
  {
   "cell_type": "code",
   "execution_count": null,
   "id": "c5123d49-32fc-4546-8a65-2e2f11735481",
   "metadata": {},
   "outputs": [],
   "source": []
  }
 ],
 "metadata": {
  "kernelspec": {
   "display_name": "Python 3 (ipykernel)",
   "language": "python",
   "name": "python3"
  },
  "language_info": {
   "codemirror_mode": {
    "name": "ipython",
    "version": 3
   },
   "file_extension": ".py",
   "mimetype": "text/x-python",
   "name": "python",
   "nbconvert_exporter": "python",
   "pygments_lexer": "ipython3",
   "version": "3.9.12"
  }
 },
 "nbformat": 4,
 "nbformat_minor": 5
}
